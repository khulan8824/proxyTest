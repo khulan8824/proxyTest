{
 "cells": [
  {
   "cell_type": "code",
   "execution_count": 37,
   "metadata": {},
   "outputs": [
    {
     "name": "stdout",
     "output_type": "stream",
     "text": [
      "1mb : 5126 : 125000.0 : 0.536235809820315\n",
      "1mb : 10473 : 125000.0 : 0.298983509707025\n",
      "1mb : 11252 : 125000.0 : 0.2692192416095599\n",
      "1mb : 7193 : 125000.0 : 0.0822205302284707\n",
      "1mb : 57064 : 125000.0 : 0.04357070993207276\n",
      "youtube : 5126 : 503359.42287849134 : 3.7110015974025967\n",
      "youtube : 10473 : 503467.6089641786 : 2.2606202383977423\n",
      "youtube : 11252 : 502853.2528674784 : 1.8971438501852795\n",
      "youtube : 7193 : 503409.73989455187 : 1.3579076592267172\n",
      "youtube : 57064 : 501408.90016731736 : 1.3277825369027698\n",
      "10mb : 5126 : 1250000.0 : 6.647648807186036\n",
      "10mb : 10473 : 1250000.0 : 2.0139322023641504\n",
      "10mb : 11252 : 1250000.0 : 1.4622850015814435\n",
      "10mb : 7193 : 1249671.8288525743 : 0.5241259550166932\n",
      "10mb : 57064 : 1250000.0 : 0.3684814232881731\n",
      "bbc : 5126 : 203172.75004450773 : 0.87853686701086\n",
      "bbc : 10473 : 203180.00688073394 : 0.621518829216656\n",
      "bbc : 11252 : 203204.7060691602 : 0.36002063955539876\n",
      "bbc : 7193 : 203153.7596694796 : 0.2323777317158933\n",
      "bbc : 57064 : 203125.08131868133 : 0.24868521062271112\n",
      "100mb : 5126 : 12493964.077196727 : 68.47647846940595\n",
      "100mb : 10473 : 12499825.737956591 : 19.348454646550245\n",
      "100mb : 11252 : 12371642.12250662 : 14.258511422594875\n",
      "100mb : 7193 : 12489527.639191564 : 3.839073243409498\n",
      "100mb : 57064 : 12500000.0 : 3.137337630971991\n"
     ]
    }
   ],
   "source": [
    "import os\n",
    "#import ipdb\n",
    "\n",
    "import pandas as pd\n",
    "import matplotlib as mpl\n",
    "from matplotlib import lines\n",
    "from matplotlib import pyplot as plt\n",
    "import matplotlib.dates as mdates\n",
    "import numpy as np\n",
    "import seaborn as sns\n",
    "\n",
    "EXP_NAME = \"logs/clients\"\n",
    "RESULTS_DIR = os.path.join( os.getcwd(),'results')\n",
    "\n",
    "headers = ['time', 'start_transfer', 'download','status','size']\n",
    "\n",
    "#Read input files from the directory and returns DataTable object in a combined list\n",
    "def read_clients():\n",
    "    #Get list of nodes(files) with results\n",
    "    INPUT_DIR = os.path.join( os.getcwd(), EXP_NAME)\n",
    "    dirs = [f for f in os.listdir(INPUT_DIR) if os.path.isdir(os.path.join(INPUT_DIR, f))]\n",
    "    #Load results from each node\n",
    "    nodes_results = {}\n",
    "    for sub_dir in dirs:\n",
    "        client_nodes = [f for f in os.listdir(INPUT_DIR+'/'+sub_dir) if os.path.isdir(os.path.join(INPUT_DIR+'/'+sub_dir, f))]\n",
    "        #print(client_nodes)\n",
    "        for node in client_nodes:\n",
    "            tunnel_nodes = os.listdir(INPUT_DIR+'/'+sub_dir+'/'+node)\n",
    "            for tunnel in tunnel_nodes:                \n",
    "                file = os.path.join(INPUT_DIR+'/'+sub_dir+'/'+node,tunnel)\n",
    "                try:\n",
    "                    temp = pd.read_csv(file,sep=',', header = None)\n",
    "                    temp.columns = headers\n",
    "                    temp = temp.query('status == 200 & size >0')\n",
    "                    temp = temp.set_index(pd.DatetimeIndex(temp.time))\n",
    "                    temp['proxy'] = tunnel\n",
    "                    if node in nodes_results:\n",
    "                        nodes_results[node] = pd.concat([nodes_results[node], temp])\n",
    "                        #print('Coming:',node,':',tunnel,':',len(nodes_results[node]))\n",
    "                    else:\n",
    "                        nodes_results[node] = temp\n",
    "                except Exception as e:\n",
    "                    print(node, 'EXception', e)\n",
    "            #print(nodes_results[node].info())\n",
    "    return nodes_results\n",
    "\n",
    "client_data = read_clients()\n",
    "for client in client_data:\n",
    "    df = client_data[client]\n",
    "    df['download_time']= df['download'] - df['start_transfer']\n",
    "    proxies = df.proxy.unique()\n",
    "    for proxy in proxies:\n",
    "        df_proxy = df.query('proxy == \"'+proxy+'\"')\n",
    "        print(client,':',proxy,':',df_proxy['size'].mean(),':',df_proxy.download_time.mean())\n",
    "    "
   ]
  },
  {
   "cell_type": "code",
   "execution_count": null,
   "metadata": {
    "collapsed": true
   },
   "outputs": [],
   "source": []
  }
 ],
 "metadata": {
  "kernelspec": {
   "display_name": "Python 3",
   "language": "python",
   "name": "python3"
  },
  "language_info": {
   "codemirror_mode": {
    "name": "ipython",
    "version": 3
   },
   "file_extension": ".py",
   "mimetype": "text/x-python",
   "name": "python",
   "nbconvert_exporter": "python",
   "pygments_lexer": "ipython3",
   "version": "3.6.0"
  }
 },
 "nbformat": 4,
 "nbformat_minor": 2
}
